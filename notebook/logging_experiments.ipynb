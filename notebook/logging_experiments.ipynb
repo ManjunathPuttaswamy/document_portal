{
 "cells": [
  {
   "cell_type": "code",
   "execution_count": 7,
   "id": "10653b18",
   "metadata": {},
   "outputs": [],
   "source": [
    "import logging\n",
    "import os\n",
    "from datetime import datetime\n"
   ]
  },
  {
   "cell_type": "code",
   "execution_count": 8,
   "id": "5c81b7cc",
   "metadata": {},
   "outputs": [],
   "source": [
    "logs_dir = os.path.join(os.getcwd(),\"logs\" )"
   ]
  },
  {
   "cell_type": "code",
   "execution_count": 9,
   "id": "261e3cdc",
   "metadata": {},
   "outputs": [],
   "source": [
    "os.makedirs(logs_dir, exist_ok=True)"
   ]
  },
  {
   "cell_type": "code",
   "execution_count": 10,
   "id": "5c0fcd53",
   "metadata": {},
   "outputs": [],
   "source": [
    "LOG_FILE = f\"{datetime.now().strftime('%m_%d_%Y_%H_%M_%S')}.log\""
   ]
  },
  {
   "cell_type": "code",
   "execution_count": 11,
   "id": "edd0ced0",
   "metadata": {},
   "outputs": [
    {
     "data": {
      "text/plain": [
       "'07_26_2025_17_12_12.log'"
      ]
     },
     "execution_count": 11,
     "metadata": {},
     "output_type": "execute_result"
    }
   ],
   "source": [
    "LOG_FILE"
   ]
  },
  {
   "cell_type": "markdown",
   "id": "9ac5c2db",
   "metadata": {},
   "source": [
    "#today\n",
    "- with today's date log file will be creted\n",
    "\n",
    "#tomorrow\n",
    "- with tomorrow's date log file will be created"
   ]
  },
  {
   "cell_type": "code",
   "execution_count": 12,
   "id": "ccd3b4a9",
   "metadata": {},
   "outputs": [],
   "source": [
    "LOG_FILE_PATH=os.path.join(logs_dir,LOG_FILE)"
   ]
  },
  {
   "cell_type": "code",
   "execution_count": 13,
   "id": "a500c836",
   "metadata": {},
   "outputs": [],
   "source": [
    "logging.basicConfig(\n",
    "    filename=LOG_FILE_PATH,\n",
    "    format=\"[ %(asctime)s ] %(levelname)s %(name)s (line:%(lineno)d) - %(message)s\",\n",
    "    level=logging.INFO,\n",
    ")"
   ]
  },
  {
   "cell_type": "code",
   "execution_count": 14,
   "id": "b9a032d6",
   "metadata": {},
   "outputs": [],
   "source": [
    "logger=logging.getLogger(\"DocumentPortal\")"
   ]
  },
  {
   "cell_type": "code",
   "execution_count": 15,
   "id": "dbecf7bb",
   "metadata": {},
   "outputs": [],
   "source": [
    "logger.info(\"This is an info message\")"
   ]
  },
  {
   "cell_type": "markdown",
   "id": "62de25fb",
   "metadata": {},
   "source": [
    "### StructLog"
   ]
  },
  {
   "cell_type": "code",
   "execution_count": 16,
   "id": "d77e6aeb",
   "metadata": {},
   "outputs": [],
   "source": [
    "import structlog\n",
    "log=structlog.get_logger()"
   ]
  },
  {
   "cell_type": "code",
   "execution_count": 17,
   "id": "777d40bd",
   "metadata": {},
   "outputs": [
    {
     "name": "stdout",
     "output_type": "stream",
     "text": [
      "2025-07-26 17:12:37 [info     ] User uploaded a file           filename=report.pdf user_id=713\n"
     ]
    }
   ],
   "source": [
    "log.info(\"User uploaded a file\", user_id=713, filename=\"report.pdf\")"
   ]
  },
  {
   "cell_type": "code",
   "execution_count": 18,
   "id": "b0f04a53",
   "metadata": {},
   "outputs": [
    {
     "name": "stdout",
     "output_type": "stream",
     "text": [
      "2025-07-26 17:12:39 [error    ] Failed to process PDF          error='File not found' user_id=713\n"
     ]
    }
   ],
   "source": [
    "log.error(\"Failed to process PDF\", error=\"File not found\", user_id=713)\n"
   ]
  },
  {
   "cell_type": "markdown",
   "id": "7cf2876c",
   "metadata": {},
   "source": [
    "- [ 2025-07-26 13:34:22,657 ] INFO __main__ (line:5) - {\"user_id\": 123, \"filename\": \"report.pdf\", \"event\": \"User uploaded a file\", \"timestamp\": \"2025-07-26T08:04:22.657768Z\"}\n",
    "- [ 2025-07-26 13:34:22,658 ] ERROR __main__ (line:6) - {\"error\": \"File not found\", \"user_id\": 123, \"event\": \"Failed to process PDF\", \"timestamp\": \"2025-07-26T08:04:22.658768Z\"}"
   ]
  },
  {
   "cell_type": "code",
   "execution_count": null,
   "id": "f6fbe7ee",
   "metadata": {},
   "outputs": [],
   "source": []
  },
  {
   "cell_type": "code",
   "execution_count": null,
   "id": "71e8e9a7",
   "metadata": {},
   "outputs": [],
   "source": []
  }
 ],
 "metadata": {
  "kernelspec": {
   "display_name": "Python 3",
   "language": "python",
   "name": "python3"
  },
  "language_info": {
   "codemirror_mode": {
    "name": "ipython",
    "version": 3
   },
   "file_extension": ".py",
   "mimetype": "text/x-python",
   "name": "python",
   "nbconvert_exporter": "python",
   "pygments_lexer": "ipython3",
   "version": "3.10.18"
  }
 },
 "nbformat": 4,
 "nbformat_minor": 5
}
